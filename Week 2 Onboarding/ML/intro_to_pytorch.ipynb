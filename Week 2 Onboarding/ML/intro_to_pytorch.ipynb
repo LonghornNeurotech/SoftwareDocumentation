{
  "nbformat": 4,
  "nbformat_minor": 0,
  "metadata": {
    "colab": {
      "provenance": []
    },
    "kernelspec": {
      "name": "python3",
      "display_name": "Python 3"
    },
    "language_info": {
      "name": "python"
    }
  },
  "cells": [
    {
      "cell_type": "markdown",
      "source": [
        "# **Longhorn Neurotech Week 2 Onboarding - ML Development**\n",
        "\n",
        "The purpose of this notebook is to familiarize yourself on the basics of machine learning, and how to use relevant libraries in Python.\n",
        "\n",
        "After this exercise, you should be able to load and manipulate data, and create a basic model that you can use to solve simple regression and classification problems\n",
        "\n",
        "For our purposes, we do not expect you to understand the mathematical background of many of these topics, but expect to gradually understand **WHAT** certain functions, models, and optimizers are, **HOW** to use them, and **WHY** we use them.\n",
        "\n",
        "**At the end of this assignment, you will deliver:**\n",
        "1. **A working (hopefully) classification model that is very good at distinguishing between images of clothing**\n",
        "2. **Questions to share**\n",
        "3. **Some insight to give at the next meeting**"
      ],
      "metadata": {
        "id": "H-zhrR2UeZ1m"
      }
    },
    {
      "cell_type": "markdown",
      "source": [
        "## **Intro to ML using Pytorch**"
      ],
      "metadata": {
        "id": "TcJQrPPggSPR"
      }
    },
    {
      "cell_type": "markdown",
      "source": [
        "When it comes to machine learning, there are two major types of problems we deal with: **regression** and **classification**\n",
        "\n",
        "- **Classification**: for a new picture (data point), what **class** does it belong in out of a finite number of **classes**?\n",
        "  - Example: given a new picture of an animal, does it belong in the **fish class**, the **dog class**, or the **cat class**?\n",
        "- **Regression**: for a new personal profile (data point), what is its predicted output value? (Think of regression as a classification problem with an *infinite* number of classes)\n",
        "  - Example: say a person is 30 years old, has 25,000 dollars in student loans, three kids, two cars, and a $83,000 salary. What is their predicted credit score?"
      ],
      "metadata": {
        "id": "wqwbFAGSe9Rz"
      }
    },
    {
      "cell_type": "markdown",
      "source": [
        "In most pytorch pipelines, there are three major steps to consider:\n",
        "\n",
        "1. Design the model -- input size, output size, forward pass\n",
        "2. Create loss and optimizer functions\n",
        "3. Implement the training loop:\n",
        "  - in the forward pass, compute the prediction and loss\n",
        "  - in the backward pass analyze the gradients\n",
        "  - from the analysis, update the weights\n",
        "\n",
        "Note that this is basically all done for you in the PyTorch package, all you need to understand the the high level organization of these steps"
      ],
      "metadata": {
        "id": "da1cYBZoKko-"
      }
    },
    {
      "cell_type": "markdown",
      "source": [
        "# **EXAMPLE: Linear Regression in Pytorch**"
      ],
      "metadata": {
        "id": "jhETUiTxKLEb"
      }
    },
    {
      "cell_type": "code",
      "source": [
        "import torch\n",
        "import torch.nn as nn\n",
        "import torch.optim as optim\n",
        "\n",
        "import matplotlib.pyplot as plt"
      ],
      "metadata": {
        "id": "D1Jzlli-OGlp"
      },
      "execution_count": null,
      "outputs": []
    },
    {
      "cell_type": "code",
      "source": [
        "# Step 1: Data processing\n",
        "\n",
        "'''\n",
        "  - here I synthetically generate some data in a linear fashion, do not worry too much about how I do this (because we totally don't make up data in the real world lol)\n",
        "'''\n",
        "\n",
        "num_points = 500\n",
        "num_features = 1\n",
        "\n",
        "torch.manual_seed(42)\n",
        "X = torch.randn(num_points, num_features)\n",
        "\n",
        "noise = 0.9 * torch.randn(num_points, num_features)  # Adding some noise\n",
        "y = 2 * X + 3 + noise  # Linear relation with noise\n",
        "\n",
        "plt.scatter(X, y)\n",
        "plt.show()"
      ],
      "metadata": {
        "colab": {
          "base_uri": "https://localhost:8080/",
          "height": 430
        },
        "id": "nfiM84rWOJ5h",
        "outputId": "f79b783b-8a3b-4b3d-cb93-c0d1f29c3daa"
      },
      "execution_count": null,
      "outputs": [
        {
          "output_type": "display_data",
          "data": {
            "text/plain": [
              "<Figure size 640x480 with 1 Axes>"
            ],
            "image/png": "[encoded data removed]"
          },
          "metadata": {}
        }
      ]
    },
    {
      "cell_type": "code",
      "source": [
        "# Step 2: Define a simple linear model\n",
        "\n",
        "'''\n",
        "  - The init constructor defines the stacked organization of the model: your model can consist of many different 'sub-models' and activation functions -- more on this later\n",
        "  - The forward function defines how you input data passes through each layer in what order\n",
        "\n",
        "  - This example is super simple, we have one nn.Linear layer and we pass the inputs through that nn.Linear layer only\n",
        "      - (technically we do not need this entire python class, but it is good to remember this as a starting point for more complex models)\n",
        "'''\n",
        "\n",
        "\n",
        "class SimpleLinearModel(nn.Module):\n",
        "    def __init__(self):\n",
        "        super(SimpleLinearModel, self).__init__()\n",
        "        self.linear = nn.Linear(1, 1)  # Input = 1 feature, Output = 1 feature\n",
        "\n",
        "    def forward(self, x):\n",
        "        return self.linear(x)"
      ],
      "metadata": {
        "id": "4gTgjGjpO5xn"
      },
      "execution_count": null,
      "outputs": []
    },
    {
      "cell_type": "code",
      "source": [
        "# Step 3: Create model, define loss function and optimizer\n",
        "\n",
        "# Create an instance of the model\n",
        "model = SimpleLinearModel()\n",
        "\n",
        "'''\n",
        "  - the criterion is how we evaluate the model, i.e. how accurate it is, how much error is there, how much room for improvement do we have?\n",
        "  - there are many ways to evaluate a model (finding the loss): for linear regression, a popular evaluator is Mean Squared Error, here is a wikipedia link about it: https://en.wikipedia.org/wiki/Mean_squared_error\n",
        "'''\n",
        "\n",
        "criterion = nn.MSELoss()  # Mean Squared Error Loss for regression\n",
        "\n",
        "\n",
        "'''\n",
        "  - the optimizer is how we update the model to make it worse or better\n",
        "  - in the context of the criterion we just defined, what we will do is that\n",
        "      - FOR a number of iterations, we input our training data into a model, evaluate the performance using the criterion, then update the weights using the optimizer\n",
        "  - there are various different optimization algorithms\n",
        "      - SGD stands for Stochastic Gradient Descent -- this is very advanced for this topic, but you can read about it here: https://en.wikipedia.org/wiki/Stochastic_gradient_descent\n",
        "'''\n",
        "\n",
        "optimizer = optim.SGD(model.parameters(), lr=0.01)  # Stochastic Gradient Descent, with a learning rate of 0.01\n"
      ],
      "metadata": {
        "id": "Tx02gmbGO7X2"
      },
      "execution_count": null,
      "outputs": []
    },
    {
      "cell_type": "code",
      "source": [
        "# Step 4: Train the model\n",
        "\n",
        "num_epochs = 200 # this is the number of iterations we will do the training loop for\n",
        "\n",
        "# Training loop\n",
        "for epoch in range(num_epochs):\n",
        "\n",
        "    # reset the gradients so the weights from the previous iteration do not affect this one\n",
        "    optimizer.zero_grad()\n",
        "\n",
        "    # Forward pass: Compute predicted y by passing X to the SimpleLinearModel model\n",
        "    y_pred = model(X)\n",
        "\n",
        "    # Compute loss\n",
        "    loss = criterion(y_pred, y)\n",
        "\n",
        "    # Backward pass: Compute gradients\n",
        "    # the backward() function goes backward through the pipeline we defined in the forward pass, and computes the gradient of each weight at each stage of the model\n",
        "      # the gradient is a measure of how much a particular feature or layer contributes to the model performance: these are adjusted to incrementally make the model better\n",
        "    loss.backward()\n",
        "\n",
        "    # NOTE: the loss is stored globally, so if you stop the function, the loss will pick up where it was left off\n",
        "\n",
        "    # Update weights\n",
        "    optimizer.step()\n",
        "\n",
        "    # Print loss every 20 epochs\n",
        "    if (epoch+1) % 20 == 0:\n",
        "        print(f'Epoch [{epoch+1}/{num_epochs}], Loss: {loss.item():.4f}')"
      ],
      "metadata": {
        "colab": {
          "base_uri": "https://localhost:8080/"
        },
        "id": "rU3_OROzKQz2",
        "outputId": "8423cbff-c93b-408c-ec6a-063c1ac4cb2e"
      },
      "execution_count": null,
      "outputs": [
        {
          "output_type": "stream",
          "name": "stdout",
          "text": [
            "Epoch [20/200], Loss: 10.1566\n",
            "Epoch [40/200], Loss: 4.8626\n",
            "Epoch [60/200], Loss: 2.5496\n",
            "Epoch [80/200], Loss: 1.5390\n",
            "Epoch [100/200], Loss: 1.0975\n",
            "Epoch [120/200], Loss: 0.9046\n",
            "Epoch [140/200], Loss: 0.8203\n",
            "Epoch [160/200], Loss: 0.7835\n",
            "Epoch [180/200], Loss: 0.7674\n",
            "Epoch [200/200], Loss: 0.7603\n"
          ]
        }
      ]
    },
    {
      "cell_type": "code",
      "source": [
        "# Step 5: Evaluate the model\n",
        "# Get predictions and print the final model parameters (slope and intercept)\n",
        "with torch.no_grad():\n",
        "    predicted = model(X)\n",
        "    print(f'Final Parameters: {model.linear.weight.item():.2f} (slope), {model.linear.bias.item():.2f} (intercept)') # these values should be close to the ground truth defined in the first cell\n"
      ],
      "metadata": {
        "colab": {
          "base_uri": "https://localhost:8080/"
        },
        "id": "e6bDmzQPPBD0",
        "outputId": "3cc9541e-4d66-4c29-f901-4292863991f7"
      },
      "execution_count": null,
      "outputs": [
        {
          "output_type": "stream",
          "name": "stdout",
          "text": [
            "Final Parameters: 2.02 (slope), 2.92 (intercept)\n"
          ]
        }
      ]
    },
    {
      "cell_type": "markdown",
      "source": [
        "At this point, you should be able to:\n",
        "\n",
        "- define what loss, optimizers, forward pass, and backward pass is/are\n",
        "- be able to create and train a model with a Linear layer in one input dimension\n",
        "- be able to quantify, plot, and demonstrate the performance of your model"
      ],
      "metadata": {
        "id": "QsDN7DIhuebA"
      }
    },
    {
      "cell_type": "markdown",
      "source": [
        "# **EXERCISE: Classification in Pytorch**"
      ],
      "metadata": {
        "id": "U9PxTCBPhZGO"
      }
    },
    {
      "cell_type": "markdown",
      "source": [
        "Now that we have a general framework of how to build a model, we will do the same with a classification problem"
      ],
      "metadata": {
        "id": "PHghSN3ovhs4"
      }
    },
    {
      "cell_type": "code",
      "source": [
        "import torch\n",
        "import torch.nn as nn\n",
        "import torch.optim as optim\n",
        "from torchvision import datasets, transforms\n",
        "from torch.utils.data import DataLoader\n",
        "import matplotlib.pyplot as plt"
      ],
      "metadata": {
        "id": "olU4I8MVqolW"
      },
      "execution_count": null,
      "outputs": []
    },
    {
      "cell_type": "markdown",
      "source": [
        "Here, I am loading the MNIST-Fashion dataset -- this is similar to the MNIST set of handwritten digits, but this is for 10 classes of clothing articles like shoes, trousers, pullovers, etc"
      ],
      "metadata": {
        "id": "HRiIpJ-W-fxo"
      }
    },
    {
      "cell_type": "markdown",
      "source": [
        "Some important terminology to know:\n",
        "  - a *transform* is a data manipulation framework. There are many things you can do inside a transform, here the transform is waiting to convert data to a *tensor* and *normalize* it\n",
        "    - a *tensor* is a fancy word for a special PyTorch array/matrix, the behavior is the same as regular arrays, but they are optimized for PyTorch\n",
        "    - *normalizing* usually means that we take the values of our data and represent them with equal or random weight. This is to ensure that no one feature has a greater impact on the output than another. Here we need to consider that each pixel is represented on a grayscale, so we want to normalize each pixel according to a gaussian curve with mean and standard deviation 0.5\n",
        "    \n",
        "\n",
        "\n",
        "  - a *data loader* can be seen as an intermediary step in between actually putting your data into your model. Having a dataloader can speed up model processing, and give some cool features like shuffling your data.\n",
        "    - TLDR: loop over the dataloader instead of the data itself, and good things happen :)"
      ],
      "metadata": {
        "id": "k8rNzImszbmX"
      }
    },
    {
      "cell_type": "code",
      "source": [
        "# Define a transform to normalize the data\n",
        "transform = transforms.Compose([\n",
        "    transforms.ToTensor(),  # Convert the image to PyTorch tensor\n",
        "    transforms.Normalize((0.5,), (0.5,))  # Normalize with mean=0.5 and std=0.5\n",
        "])\n",
        "\n",
        "# Load the Fashion-MNIST datasets\n",
        "train_dataset = datasets.FashionMNIST(root='./data', train=True, transform=transform, download=True)\n",
        "test_dataset = datasets.FashionMNIST(root='./data', train=False, transform=transform, download=True)\n",
        "\n",
        "# Create data loaders for training and testing\n",
        "train_loader = DataLoader(dataset=train_dataset, batch_size=64, shuffle=True)\n",
        "test_loader = DataLoader(dataset=test_dataset, batch_size=1000, shuffle=False)\n"
      ],
      "metadata": {
        "id": "7tiwei5uxKY9"
      },
      "execution_count": null,
      "outputs": []
    },
    {
      "cell_type": "markdown",
      "source": [
        "Now lets define our model architecture!\n",
        "\n",
        "We are gonna define a fairly advanced model based on a convolutional neural network (CNN), so take some time to research (use ChatGPT) and understand each part of this. Understanding this part is crucial to what we will be doing moving forward. I will give a high level instruction of what to do, and you can copy and paste each step into ChatGPT to learn more about it, and what to write for that step.\n",
        "\n",
        "I started with the class stem and implementing the forward function, this will be the blank canvas for our model\n",
        "\n",
        "**In the init__ constructor:**\n",
        "1. (*done for you*) add a convolutional 2d layer with 1 input channel, 16 output channels, and a 3x3 kernel\n",
        "2. add a second convolutional 2d layer with 16 input channels, 32 output channels, and a 3x3 kernel\n",
        "3. create a max pooling 2d layer with a 2x2 filter and a kernel size of 2\n",
        "4. create a fully connected Linear layer to flatten an input vector of 32 * 7 * 7 to 128\n",
        "5. create one more fully connected Linear layer that takes an input vector size of 128 and outputs a vector of probabilities of length 10\n",
        "\n",
        "\n",
        "**In the forward pass function**\n",
        "1. (*done for you*) send x through the **first convolutional layer** -> send that through a **torch.relu()** activation function -> **pool** the results\n",
        "2. send x through the **second convolutional layer** -> send that through a **torch.relu()** activation function -> **pool** the results\n",
        "3. flatten x to a single dimension vector using x.view(-1, 32 * 7 * 7)\n",
        "4. send x through the **first fully connected Linear** layer -> send that through a **torch.relu()** activation function\n",
        "5. finally, send x through the **second fully connected Linear** layer.\n",
        "\n",
        "After the last step, we should get a tensor of length 10, each value corresponds to a probability that the input image is that corresponding label"
      ],
      "metadata": {
        "id": "MCHsFRxM7T1B"
      }
    },
    {
      "cell_type": "code",
      "source": [
        "class FashionMNIST_CNN(nn.Module):\n",
        "  def __init__(self):\n",
        "    super(FashionMNIST_CNN, self).__init__()\n",
        "\n",
        "    # add layers here -- Replace each \"None\" with the layer code\n",
        "    self.conv1 = nn.Conv2d(1, 16, kernel_size=3, padding=1) # convolutional 2d layer with 1 input channel, 16 output channels, and a 3x3 kernel\n",
        "\n",
        "    self.conv2 = None\n",
        "\n",
        "    self.pool = None\n",
        "\n",
        "    self.fc1 = None\n",
        "\n",
        "    self.fc2 = None\n",
        "\n",
        "  def forward(self, x):\n",
        "\n",
        "    # connect the layers here in the forward pass\n",
        "\n",
        "    # send x through the first convolutional layer\n",
        "    x = self.conv1(x)\n",
        "\n",
        "    # send that through a torch.relu() activation function\n",
        "    x = torch.relu(x)\n",
        "\n",
        "    # pool the results\n",
        "    x = self.pool(x)\n",
        "\n",
        "\n",
        "\n",
        "    # continue here...\n",
        "\n",
        "\n",
        "    return x\n"
      ],
      "metadata": {
        "id": "7B03tnYL73o4"
      },
      "execution_count": null,
      "outputs": []
    },
    {
      "cell_type": "markdown",
      "source": [
        "Do not worry if you don't know everything that is going on! This is a lot, but the best way to learn is by doing, so lets keep on *doing* and we can tackle actually understanding the model in discussion later!"
      ],
      "metadata": {
        "id": "RqXbmbUzDgEY"
      }
    },
    {
      "cell_type": "markdown",
      "source": [
        "The next thing we have to do is\n",
        "1. Instantiate our CNN model\n",
        "2. Define our loss function (use nn.CrossEntropyLoss())\n",
        "3. Define an optimizer (use optim.Adam()), load the model parameters and set the learning rate to 0.001"
      ],
      "metadata": {
        "id": "EwEELPYeCjiV"
      }
    },
    {
      "cell_type": "code",
      "source": [
        "# instantiate the model\n",
        "\n",
        "# define the loss function/criterion\n",
        "\n",
        "# define the adam optimizer\n"
      ],
      "metadata": {
        "id": "yjhtEFOkFhRL"
      },
      "execution_count": null,
      "outputs": []
    },
    {
      "cell_type": "markdown",
      "source": [
        "Now the fun step, we will write the training loop! Be sure to refer back to the example above, but there are a few more things we will add to make this more robust since the MNIST set is much larger and more complex. Here is the pseudocode for the training algorithm\n",
        "\n",
        "1. define a number of epochs (iterations). 5 is a good number for now\n",
        "2. create a training for loop over each epoch\n",
        "  3. set the model to be in training mode using \"model.train()\"\n",
        "  4. set a variable called \"total_running_loss\" for each epoch to 0.0\n",
        "  5. make a nested for loop, this one will iterate over each image and label in the train_loader\n",
        "    6. reset the gradients to zero\n",
        "    7. compute the predicted y (labels) by running the images through the model\n",
        "    8. compute your loss\n",
        "    9. do a backwards pass and compute the gradients on your loss\n",
        "    10. update the weights using the optimizer\n",
        "    11. add the current loss.item() to the total running loss\n",
        "  12. print the total running loss for each epoch to observe progress\n",
        "\n",
        "We should observe that the loss decreases every epoch. Running this loop might take a few minutes."
      ],
      "metadata": {
        "id": "NHuYFLGfFgU-"
      }
    },
    {
      "cell_type": "code",
      "source": [
        "# Write the training loop\n",
        "\n"
      ],
      "metadata": {
        "id": "mu-E-jC1GY61"
      },
      "execution_count": null,
      "outputs": []
    },
    {
      "cell_type": "markdown",
      "source": [
        "At this point, your model should be fully trained! Here is a function that will evaluate the accuracy of your model using the test set. You may need to change the model name to match what you named your's. Take some time to understand this"
      ],
      "metadata": {
        "id": "azDFibyFJyO_"
      }
    },
    {
      "cell_type": "code",
      "source": [
        "# Function to evaluate the model\n",
        "def evaluate_model(model, test_loader):\n",
        "    model.eval()  # Set the model to evaluation mode\n",
        "    correct = 0\n",
        "    total = 0\n",
        "\n",
        "    with torch.no_grad():  # Disable gradient calculation for faster inference\n",
        "        for images, labels in test_loader:\n",
        "            outputs = model(images)\n",
        "            _, predicted = torch.max(outputs.data, 1)  # Get the class with the highest score\n",
        "            total += labels.size(0)\n",
        "            correct += (predicted == labels).sum().item()\n",
        "\n",
        "    accuracy = 100 * correct / total\n",
        "    print(f'Accuracy of the model on the test images: {accuracy:.2f}%')\n",
        "\n",
        "# Evaluate the model on the test set, CHANGE THE MODEL NAME HERE IF IT IS DIFFERENT\n",
        "evaluate_model(model, test_loader)\n"
      ],
      "metadata": {
        "colab": {
          "base_uri": "https://localhost:8080/"
        },
        "id": "4aMUOGglxnzR",
        "outputId": "537d8af5-672f-4184-ff7c-4ff172403239"
      },
      "execution_count": null,
      "outputs": [
        {
          "output_type": "stream",
          "name": "stdout",
          "text": [
            "Accuracy of the model on the test images: 91.34%\n"
          ]
        }
      ]
    },
    {
      "cell_type": "markdown",
      "source": [
        "**Bonus**: If you're like me, seeing a good model accuracy isn't satisfying enough. Figure out a way to visually check your model. Get a picture from the set, run it through the model, and compare the expected output and the output of your model. Do they match up?"
      ],
      "metadata": {
        "id": "kd_8XHhnKYHA"
      }
    },
    {
      "cell_type": "code",
      "source": [],
      "metadata": {
        "id": "hSkjG7bTKnbQ"
      },
      "execution_count": null,
      "outputs": []
    },
    {
      "cell_type": "markdown",
      "source": [],
      "metadata": {
        "id": "w3giTe5vLIKl"
      }
    }
  ]
}